{
  "nbformat": 4,
  "nbformat_minor": 0,
  "metadata": {
    "colab": {
      "provenance": []
    },
    "kernelspec": {
      "name": "python3",
      "display_name": "Python 3"
    },
    "language_info": {
      "name": "python"
    }
  },
  "cells": [
    {
      "cell_type": "code",
      "execution_count": null,
      "metadata": {
        "id": "yI0rqzPYZP00"
      },
      "outputs": [],
      "source": [
        "import numpy as np\n",
        "import math\n",
        "import statistics as stats"
      ]
    },
    {
      "cell_type": "code",
      "source": [
        "print(dir(int))"
      ],
      "metadata": {
        "colab": {
          "base_uri": "https://localhost:8080/"
        },
        "id": "0L6TvAnF0YPc",
        "outputId": "06dbae1b-9635-4ad8-84b4-47aeee786a72"
      },
      "execution_count": null,
      "outputs": [
        {
          "output_type": "stream",
          "name": "stdout",
          "text": [
            "['__abs__', '__add__', '__and__', '__bool__', '__ceil__', '__class__', '__delattr__', '__dir__', '__divmod__', '__doc__', '__eq__', '__float__', '__floor__', '__floordiv__', '__format__', '__ge__', '__getattribute__', '__getnewargs__', '__getstate__', '__gt__', '__hash__', '__index__', '__init__', '__init_subclass__', '__int__', '__invert__', '__le__', '__lshift__', '__lt__', '__mod__', '__mul__', '__ne__', '__neg__', '__new__', '__or__', '__pos__', '__pow__', '__radd__', '__rand__', '__rdivmod__', '__reduce__', '__reduce_ex__', '__repr__', '__rfloordiv__', '__rlshift__', '__rmod__', '__rmul__', '__ror__', '__round__', '__rpow__', '__rrshift__', '__rshift__', '__rsub__', '__rtruediv__', '__rxor__', '__setattr__', '__sizeof__', '__str__', '__sub__', '__subclasshook__', '__truediv__', '__trunc__', '__xor__', 'as_integer_ratio', 'bit_count', 'bit_length', 'conjugate', 'denominator', 'from_bytes', 'imag', 'numerator', 'real', 'to_bytes']\n"
          ]
        }
      ]
    },
    {
      "cell_type": "code",
      "source": [
        "print(dir(str))"
      ],
      "metadata": {
        "id": "xodpEn3c0cVb",
        "outputId": "bf73753e-873b-4acb-ab79-116e1137ee3b",
        "colab": {
          "base_uri": "https://localhost:8080/"
        }
      },
      "execution_count": null,
      "outputs": [
        {
          "output_type": "stream",
          "name": "stdout",
          "text": [
            "['__add__', '__class__', '__contains__', '__delattr__', '__dir__', '__doc__', '__eq__', '__format__', '__ge__', '__getattribute__', '__getitem__', '__getnewargs__', '__getstate__', '__gt__', '__hash__', '__init__', '__init_subclass__', '__iter__', '__le__', '__len__', '__lt__', '__mod__', '__mul__', '__ne__', '__new__', '__reduce__', '__reduce_ex__', '__repr__', '__rmod__', '__rmul__', '__setattr__', '__sizeof__', '__str__', '__subclasshook__', 'capitalize', 'casefold', 'center', 'count', 'encode', 'endswith', 'expandtabs', 'find', 'format', 'format_map', 'index', 'isalnum', 'isalpha', 'isascii', 'isdecimal', 'isdigit', 'isidentifier', 'islower', 'isnumeric', 'isprintable', 'isspace', 'istitle', 'isupper', 'join', 'ljust', 'lower', 'lstrip', 'maketrans', 'partition', 'removeprefix', 'removesuffix', 'replace', 'rfind', 'rindex', 'rjust', 'rpartition', 'rsplit', 'rstrip', 'split', 'splitlines', 'startswith', 'strip', 'swapcase', 'title', 'translate', 'upper', 'zfill']\n"
          ]
        }
      ]
    },
    {
      "cell_type": "code",
      "source": [
        "print(dir(list))"
      ],
      "metadata": {
        "id": "Wktdc5Jj0eC8",
        "outputId": "3ac1ee32-2a0d-4922-ecda-59a862c78aa1",
        "colab": {
          "base_uri": "https://localhost:8080/"
        }
      },
      "execution_count": null,
      "outputs": [
        {
          "output_type": "stream",
          "name": "stdout",
          "text": [
            "['__add__', '__class__', '__class_getitem__', '__contains__', '__delattr__', '__delitem__', '__dir__', '__doc__', '__eq__', '__format__', '__ge__', '__getattribute__', '__getitem__', '__getstate__', '__gt__', '__hash__', '__iadd__', '__imul__', '__init__', '__init_subclass__', '__iter__', '__le__', '__len__', '__lt__', '__mul__', '__ne__', '__new__', '__reduce__', '__reduce_ex__', '__repr__', '__reversed__', '__rmul__', '__setattr__', '__setitem__', '__sizeof__', '__str__', '__subclasshook__', 'append', 'clear', 'copy', 'count', 'extend', 'index', 'insert', 'pop', 'remove', 'reverse', 'sort']\n"
          ]
        }
      ]
    },
    {
      "cell_type": "markdown",
      "source": [
        "## 1. CLASS FUNCTIONS"
      ],
      "metadata": {
        "id": "XbQww9hEZZbY"
      }
    },
    {
      "cell_type": "code",
      "source": [
        "# Khai báo 1 lớp chó, có 2 đặc điểm bắt buộc khai báo: Tên và Tuổi\n",
        "class Dog:\n",
        "    # Khai báo cái chung của cả họ nhà Chó / Đặc trưng - Attribute chung\n",
        "    species = \"mammal\"\n",
        "\n",
        "    # Khai báo riêng cho từng con Chó / Đặc trưng - Attribute Riêng\n",
        "    def __init__(self, n, a): # __init__ means the initializer, which will set up the self--the selected incorporated variable\n",
        "        self.name = n #what to say to retrive the variable elements inside n\n",
        "        self.age = a\n",
        "\n",
        "    # Phương thức (khả năng)  / Methods - Tùy biến\n",
        "    def bark(self): #self.bark to execute\n",
        "        print(f\"Woof!, {self.name}\")\n",
        "\n",
        "    # Hàm đặc biệt\n",
        "    def __str__(self): #to kind of show the computer what you are going to say when you print the self out.\n",
        "        return f\"{self.name} is {self.age} years old\""
      ],
      "metadata": {
        "id": "p15nCzCd8BoI"
      },
      "execution_count": null,
      "outputs": []
    },
    {
      "cell_type": "code",
      "source": [
        "# Khai báo 1 con chó đầu tiên\n",
        "Luna = Dog(\n",
        "    n = \"Luna\",\n",
        "    a = 2\n",
        ")"
      ],
      "metadata": {
        "id": "0kjU_vpm_1Db"
      },
      "execution_count": null,
      "outputs": []
    },
    {
      "cell_type": "code",
      "source": [
        "Luna.bark()"
      ],
      "metadata": {
        "colab": {
          "base_uri": "https://localhost:8080/"
        },
        "id": "VUN-YRBF_4we",
        "outputId": "f70eb445-db08-4a5e-82d1-0800db6b9021"
      },
      "execution_count": null,
      "outputs": [
        {
          "output_type": "stream",
          "name": "stdout",
          "text": [
            "Woof!, Luna\n"
          ]
        }
      ]
    },
    {
      "cell_type": "code",
      "source": [
        "print(Luna)"
      ],
      "metadata": {
        "colab": {
          "base_uri": "https://localhost:8080/"
        },
        "id": "adRb0RMI_53B",
        "outputId": "3a6791e7-43e0-44eb-b201-6f4495710942"
      },
      "execution_count": null,
      "outputs": [
        {
          "output_type": "stream",
          "name": "stdout",
          "text": [
            "Luna is 2 years old\n"
          ]
        }
      ]
    },
    {
      "cell_type": "code",
      "source": [
        "Luna.species"
      ],
      "metadata": {
        "colab": {
          "base_uri": "https://localhost:8080/",
          "height": 36
        },
        "id": "5JpA8-y5ACno",
        "outputId": "6f5bb497-e9c3-4824-873d-5128e5b46f37"
      },
      "execution_count": null,
      "outputs": [
        {
          "output_type": "execute_result",
          "data": {
            "text/plain": [
              "'mammal'"
            ],
            "application/vnd.google.colaboratory.intrinsic+json": {
              "type": "string"
            }
          },
          "metadata": {},
          "execution_count": 16
        }
      ]
    },
    {
      "cell_type": "code",
      "source": [
        "Luna.name"
      ],
      "metadata": {
        "id": "AHjkJ2XlAEug",
        "outputId": "bf0463da-da91-44fa-8fab-cd6976cb542b",
        "colab": {
          "base_uri": "https://localhost:8080/",
          "height": 36
        }
      },
      "execution_count": null,
      "outputs": [
        {
          "output_type": "execute_result",
          "data": {
            "text/plain": [
              "'Luna'"
            ],
            "application/vnd.google.colaboratory.intrinsic+json": {
              "type": "string"
            }
          },
          "metadata": {},
          "execution_count": 17
        }
      ]
    },
    {
      "cell_type": "markdown",
      "source": [
        "##2. What are magic methods."
      ],
      "metadata": {
        "id": "qMmBtPqdAKyQ"
      }
    },
    {
      "cell_type": "markdown",
      "source": [
        "https://www.geeksforgeeks.org/dunder-magic-methods-python/\n",
        "\n",
        "Python Magic methods are the methods starting and ending with double underscores ‘__’. They are defined by built-in classes in Python and commonly used for operator overloading.\n",
        "\n",
        "They are also called Dunder methods, Dunder here means “Double Under (Underscores)”.\n",
        "\n",
        "the magic methods describe what happens under certain circumstances when execute a variable inside the class, like from the previous examples, we have `__init__` to initialize the class, and the `___str___` is executed when the variable that the class is used is getting printed"
      ],
      "metadata": {
        "id": "h5--oMQfQnzN"
      }
    },
    {
      "cell_type": "markdown",
      "source": [
        "###2.1 `__add__`\n",
        "\n",
        "`__add__` magic method is used to add the attributes of the class instance. For example, let’s say object1 is an instance of a class A and object2 is an instance of class B and both of these classes have an attribute called ‘a’, that holds an integer. When the operation object1 + object2 is done the `__add__` method implicitly adds the attributes of these instances like object1.a + object2.a, if defined so."
      ],
      "metadata": {
        "id": "3oIo41kcRb70"
      }
    },
    {
      "cell_type": "code",
      "source": [
        "class One:\n",
        "    def __init__(self, a):\n",
        "        self.a = a\n",
        "    def __add__(self, object2):\n",
        "        return self.a + object2.b #based on the related class's varible\n",
        "        #basically, object2 is now considered as the next class that will stand infront of the \"+\"\n",
        "        #this can be either a plain variable or a straright up a random data, but\n",
        "        #when having .a infront, it can be understands that there will be another class with __init__ there\n",
        "        #so object2 will be the class' variable (specifically class Two, when varible = Two(a), the a is dictated by the __init__ methods)\n",
        "        #and the .a is from the __init__, so, theoretically, if class Two don't have a __add__, then the only\n",
        "        #code is able to execute is One(a) + Two(b), not the other way around\n",
        "class Two:\n",
        "    def __init__(self, b):\n",
        "        self.b = b\n",
        "\n",
        "instance1 = One(10)\n",
        "instance2 = Two(20)\n",
        "print(instance1 + instance2)\n",
        "print(instance2 + instance1)\n",
        "print(instance1.a + 7)"
      ],
      "metadata": {
        "colab": {
          "base_uri": "https://localhost:8080/"
        },
        "id": "LEH05wK2xnW8",
        "outputId": "b1d5b5b4-62fc-48c8-c25f-fa1360e340b5"
      },
      "execution_count": null,
      "outputs": [
        {
          "output_type": "stream",
          "name": "stdout",
          "text": [
            "30\n",
            "30\n",
            "17\n"
          ]
        }
      ]
    },
    {
      "cell_type": "code",
      "source": [
        "class One:\n",
        "    def __init__(self, a):\n",
        "        self.a = a\n",
        "    def __add__(self, object2):\n",
        "        return self.a + object2.a\n",
        "class Two:\n",
        "    def __init__(self, a):\n",
        "        self.a = a\n",
        "    def __add__(self, object2):\n",
        "        return self.a + object2.a\n",
        "instance1 = One(20)\n",
        "instance2 = Two(20)\n",
        "print(instance1 + instance2)\n",
        "print(instance2 + instance1)"
      ],
      "metadata": {
        "colab": {
          "base_uri": "https://localhost:8080/"
        },
        "id": "Qx1jpdCOxq4d",
        "outputId": "75f993ee-6183-4334-91af-5edd16aeee73"
      },
      "execution_count": null,
      "outputs": [
        {
          "output_type": "stream",
          "name": "stdout",
          "text": [
            "40\n",
            "40\n"
          ]
        }
      ]
    },
    {
      "cell_type": "code",
      "source": [
        "class Str:\n",
        "    def __init__(self, string_):\n",
        "        self.string_ = string_\n",
        "    def __add__(self, string2): #only 1 methods in one class\n",
        "        return self.string_ + string2\n",
        "instance1 = Str(\"Hello\")\n",
        "print(instance1 + \" Folks\")"
      ],
      "metadata": {
        "colab": {
          "base_uri": "https://localhost:8080/"
        },
        "id": "T61VITm90gzV",
        "outputId": "e5f54508-b15d-4e3f-8159-d0533fcd8217"
      },
      "execution_count": null,
      "outputs": [
        {
          "output_type": "stream",
          "name": "stdout",
          "text": [
            "Hello Folks\n"
          ]
        }
      ]
    },
    {
      "cell_type": "markdown",
      "source": [
        "### 2.2 `__getitem__` and `__setitem__`\n",
        "\n",
        "`__getitem__` method is used to get an item from the invoked instances’ attribute. `__getitem__` is commonly used with containers like list, tuple, etc.\n",
        "\n",
        "`__setitem__` method is used to set the item into a specific index of the invoked instances’ attribute. Similar to `__getitem__`, `__setitem__` is also used with containers."
      ],
      "metadata": {
        "id": "cCamA2XB1lUt"
      }
    },
    {
      "cell_type": "code",
      "source": [
        "class A:\n",
        "    def __init__(self, item):\n",
        "        self.item = item\n",
        "    def __getitem__(self, index): #this occurs when we execute class with [], with the index variable actually meant the number inside the []\n",
        "        return self.item[index-1]#thus, this functions only occurs for a iterating class variable only\n",
        "a = A([1, 2, 3])\n",
        "print(f\"First item: {a[0]}\") #since the index = 0, it returns as [-1] for the specific execution inside magic methods\n",
        "print(f\"Second item: {a[1]}\")\n",
        "print(f\"Third item: {a[2]}\")"
      ],
      "metadata": {
        "colab": {
          "base_uri": "https://localhost:8080/"
        },
        "id": "msyLhFOorGNr",
        "outputId": "a07d33d7-3bfa-4a3a-917f-009c3f2b9562"
      },
      "execution_count": null,
      "outputs": [
        {
          "output_type": "stream",
          "name": "stdout",
          "text": [
            "First item: 3\n",
            "Second item: 1\n",
            "Third item: 2\n"
          ]
        }
      ]
    },
    {
      "cell_type": "code",
      "source": [
        "class SetItemExample:\n",
        "    def __init__(self, item):\n",
        "        self.item = item\n",
        "    def __setitem__(self, index, item1):\n",
        "        self.item[index-1] = item1 #how it should be executed, since it doesn't returns anything but having a alteration in an item\n",
        "setitem_instance = SetItemExample([1, 2, 3])\n",
        "print(f\"Items before setting: {setitem_instance.item}\")\n",
        "setitem_instance[1] = 5 #with index = 1 -> it will alterate at [0]\n",
        "print(f\"Items after setting: {setitem_instance.item}\")"
      ],
      "metadata": {
        "colab": {
          "base_uri": "https://localhost:8080/"
        },
        "id": "PdS_QoECrJJE",
        "outputId": "6c4307f7-f185-4cf2-f4fc-6631c6664606"
      },
      "execution_count": null,
      "outputs": [
        {
          "output_type": "stream",
          "name": "stdout",
          "text": [
            "Items before setting: [1, 2, 3]\n",
            "Items after setting: [5, 2, 3]\n"
          ]
        }
      ]
    },
    {
      "cell_type": "markdown",
      "source": [
        "###2.3 `__str__` and `__repr__`\n",
        "\n",
        "Both are basically the same thing\n",
        "\n",
        "Both allows defining how an object should be converted to a string when used with str() function or when displayed using print()"
      ],
      "metadata": {
        "id": "tJ8nFcm0sdkU"
      }
    },
    {
      "cell_type": "code",
      "source": [
        "# Khai báo 1 lớp chó, có 2 đặc điểm bắt buộc khai báo: Tên và Tuổi\n",
        "class Dog:\n",
        "    # Khai báo cái chung của cả họ nhà Chó / Đặc trưng - Attribute chung\n",
        "    species = \"mammal\"\n",
        "\n",
        "    # Khai báo riêng cho từng con Chó / Đặc trưng - Attribute Riêng\n",
        "    def __init__(self, n, a): # __init__ means the initializer, which will set up the self--the selected incorporated variable\n",
        "        self.name = n #what to say to retrive the variable elements inside n\n",
        "        self.age = a\n",
        "\n",
        "    # Phương thức (khả năng)  / Methods - Tùy biến\n",
        "    def bark(self): #self.bark to execute\n",
        "        print(f\"Woof!, {self.name}\")\n",
        "\n",
        "    # Hàm đặc biệt\n",
        "    def __str__(self): #to kind of show the computer what you are going to say when you print the self out.\n",
        "        return f\"{self.name} is {self.age} years old\"\n",
        "# Khai báo 1 con chó đầu tiên\n",
        "Luna = Dog(\n",
        "    n = \"Luna\",\n",
        "    a = 2\n",
        ")"
      ],
      "metadata": {
        "id": "Q9VDrT1-uiGz"
      },
      "execution_count": null,
      "outputs": []
    },
    {
      "cell_type": "code",
      "source": [
        "Luna.bark()"
      ],
      "metadata": {
        "colab": {
          "base_uri": "https://localhost:8080/"
        },
        "id": "0tVrwyfduu-9",
        "outputId": "0c07b7a2-bd3a-4771-e445-d2352acc988a"
      },
      "execution_count": null,
      "outputs": [
        {
          "output_type": "stream",
          "name": "stdout",
          "text": [
            "Woof!, Luna\n"
          ]
        }
      ]
    },
    {
      "cell_type": "code",
      "source": [
        "print(Luna)"
      ],
      "metadata": {
        "colab": {
          "base_uri": "https://localhost:8080/"
        },
        "id": "RORTG5ppu6_M",
        "outputId": "b3cf2c78-e0c0-4583-f49a-66b038a43faf"
      },
      "execution_count": null,
      "outputs": [
        {
          "output_type": "stream",
          "name": "stdout",
          "text": [
            "Luna is 2 years old\n"
          ]
        }
      ]
    },
    {
      "cell_type": "code",
      "source": [
        "class ReprExample:\n",
        "    def __init__(self, a, b, c):\n",
        "        self.a = a\n",
        "        self.b = b\n",
        "        self.c = c\n",
        "    def __repr__(self):\n",
        "        return f\"ReprExample123(a={self.a}, b={self.b}, c={self.c})\"#basically the same as the __str__\n",
        "repr_instance = ReprExample(1, 2, 3)\n",
        "print(repr_instance)"
      ],
      "metadata": {
        "colab": {
          "base_uri": "https://localhost:8080/"
        },
        "id": "gUtoAHB2vb-r",
        "outputId": "b9b87397-01e7-4582-d6eb-0ce87dfb641f"
      },
      "execution_count": null,
      "outputs": [
        {
          "output_type": "stream",
          "name": "stdout",
          "text": [
            "ReprExample123(a=1, b=2, c=3)\n"
          ]
        }
      ]
    },
    {
      "cell_type": "markdown",
      "source": [
        "### 2.4 `__contains__`\n",
        "\n",
        "__contains__ method is invoked when using the membership operator ‘in’. When we want to check whether an element is present in the object’s attributes that are usually container (lists, tuple) we can use the __contains__ method."
      ],
      "metadata": {
        "id": "jie4z849veqj"
      }
    },
    {
      "cell_type": "code",
      "source": [
        "class ContainsExample:\n",
        "    def __init__(self, items):\n",
        "        self.items = items\n",
        "    def __contains__(self, item):\n",
        "        return item not in self.items\n",
        "contains_instance = ContainsExample([1, 2, 3, 4, 5])\n",
        "print(4 in contains_instance) #as long as the designated variable have any interactions with the operator \"in\", it won't adhere to the\n",
        "#traditional results, but adhere to whatever the available magic method __contains__ tell them to do"
      ],
      "metadata": {
        "colab": {
          "base_uri": "https://localhost:8080/"
        },
        "id": "AiEsJBYixjdW",
        "outputId": "47cfb226-1505-410c-aa54-55d059ac19ca"
      },
      "execution_count": null,
      "outputs": [
        {
          "output_type": "stream",
          "name": "stdout",
          "text": [
            "False\n"
          ]
        }
      ]
    },
    {
      "cell_type": "markdown",
      "source": [
        "### 2.5 `__call__ ` <i><b>***</b></i>\n",
        "\n",
        "__call__ magic method is invoked when the instance of a class is invoked. Instead of writing another method to perform certain operations, we can use the __call__ method to directly call from the instance name."
      ],
      "metadata": {
        "id": "9uNfxq97xkvM"
      }
    },
    {
      "cell_type": "code",
      "source": [
        "class CallExample:\n",
        "    def __init__(self, val):\n",
        "        self.val = val\n",
        "    def __call__(self, b):\n",
        "        return self.val * (b-1)\n",
        "call_example = CallExample(5)\n",
        "print(call_example(6))"
      ],
      "metadata": {
        "colab": {
          "base_uri": "https://localhost:8080/"
        },
        "id": "7MHWymKhzpB1",
        "outputId": "cdaa788c-5c8a-4451-a665-ebdfdda03e26"
      },
      "execution_count": null,
      "outputs": [
        {
          "output_type": "stream",
          "name": "stdout",
          "text": [
            "25\n"
          ]
        }
      ]
    },
    {
      "cell_type": "code",
      "source": [],
      "metadata": {
        "id": "8LzZjlxyzpY2"
      },
      "execution_count": null,
      "outputs": []
    }
  ]
}