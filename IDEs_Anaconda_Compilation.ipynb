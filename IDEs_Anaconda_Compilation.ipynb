{
  "nbformat": 4,
  "nbformat_minor": 0,
  "metadata": {
    "colab": {
      "provenance": [],
      "collapsed_sections": [
        "b2WSwv4rw3kU",
        "Aw6Mzh9dxOMU",
        "jHXFcql25A1e"
      ]
    },
    "kernelspec": {
      "name": "python3",
      "display_name": "Python 3"
    },
    "language_info": {
      "name": "python"
    }
  },
  "cells": [
    {
      "cell_type": "markdown",
      "source": [
        "# IDEs/Anaconda_Compilation - LE DUC ANH - 26/4/2025"
      ],
      "metadata": {
        "id": "tMYGQhvQwlVo"
      }
    },
    {
      "cell_type": "markdown",
      "source": [
        "## 1. Introduction"
      ],
      "metadata": {
        "id": "b2WSwv4rw3kU"
      }
    },
    {
      "cell_type": "markdown",
      "source": [
        "- IDEs are platforms where people will code there. there are various of IDEs available on the internet, but for data science related project, jupyter notebook and gg colab are more in favor, Visual Studio are also one of the ideal IDEs"
      ],
      "metadata": {
        "id": "Y1j9AuvrxAY6"
      }
    },
    {
      "cell_type": "markdown",
      "source": [
        "- so initially, we can use Anaconda and Jupyter Notebook for now, other IDEs will be discover later\n",
        "- i'm actually quite interested in Visual Studio, so i'll drop a link here\n",
        "\n",
        "this is for setting up python\n",
        "https://www.youtube.com/watch?v=9o4gDQvVkLU\n",
        "\n",
        "this is for setting up jupyter notebook\n",
        "https://youtu.be/suAkMeWJ1yE"
      ],
      "metadata": {
        "id": "FQA3rPrQxdDk"
      }
    },
    {
      "cell_type": "markdown",
      "source": [
        "## 2. How to open an Anaconda Prompt"
      ],
      "metadata": {
        "id": "Aw6Mzh9dxOMU"
      }
    },
    {
      "cell_type": "markdown",
      "source": [
        "- for Macbook click ***Spotlight -> Terminal -> Enter ***\n",
        "- at Window, click ***Command Prompt/cmd -> Enter ***\n",
        "- on Unbuntu Linux, ***press the Win -> Dash (Type Terminal) -> Enter/(Ctrl -Alt-T)***"
      ],
      "metadata": {
        "id": "1YYoI9BT4oPt"
      }
    },
    {
      "cell_type": "markdown",
      "source": [
        "## 3. Conda commands"
      ],
      "metadata": {
        "id": "jHXFcql25A1e"
      }
    },
    {
      "cell_type": "markdown",
      "source": [
        "- Modules: Modules are individual Python files containing code (functions, classes, variables, etc.).\n",
        "\n",
        "\n",
        "- Packages: A package is a directory containing modules. It's essentially a way to create a hierarchical structure for your code.\n",
        "\n",
        "\n",
        "- Environment: In Python, an environment refers to the context in which a Python program runs, encompassing the Python interpreter, libraries, and installed packages\n",
        "\n",
        "- ____init__.py file: This file is a marker that tells Python that a directory is a package. It's usually empty, but you can add code to it to initialize the package."
      ],
      "metadata": {
        "id": "BV_cPfUeAm4W"
      }
    },
    {
      "cell_type": "markdown",
      "source": [
        "\n",
        "\n",
        "```\n",
        "Environment (overall context: interpreter + libraries + installed packages)\n",
        "│\n",
        "├── Package (folder with __init__.py, organizing modules)\n",
        "│   ├── Subpackage (optional: another folder inside a package)\n",
        "│   │   ├── Module (single .py file: functions, classes, variables)\n",
        "│   │   │   └── Code (functions, classes, variables inside the module)\n",
        "│   │   └── Module\n",
        "│   └── Module\n",
        "│\n",
        "├── Package\n",
        "│   └── Module\n",
        "│\n",
        "└── Module (standalone module not necessarily inside a package) #since the essense of subpackages are used to organzing modules\n",
        "```\n",
        "\n"
      ],
      "metadata": {
        "id": "etvCjKyjBp9P"
      }
    },
    {
      "cell_type": "markdown",
      "source": [
        "\n",
        "\n",
        "```\n",
        "my_environment\n",
        "│\n",
        "├── my_project/\n",
        "│   ├── __init__.py         (makes this folder a package)\n",
        "│   ├── utils/\n",
        "│   │   ├── __init__.py     (subpackage)\n",
        "│   │   ├── math_tools.py   (module with math functions)\n",
        "│   │   └── string_tools.py (module with string functions)\n",
        "│   ├── data_processing.py  (module)\n",
        "│   └── visualization.py    (module)\n",
        "│\n",
        "├── external_package/\n",
        "│   ├── __init__.py\n",
        "│   └── feature_module.py\n",
        "│\n",
        "└── main.py (standalone script importing packages/modules)\n",
        "\n",
        "```\n",
        "\n"
      ],
      "metadata": {
        "id": "o3c79YnhB2dA"
      }
    },
    {
      "cell_type": "markdown",
      "source": [
        "***Conda Info***               \n",
        "IMPORTANT**\n",
        "- This will verify conda is istalled for not, and also to check the version number"
      ],
      "metadata": {
        "id": "1G06MEdv5EGm"
      }
    },
    {
      "cell_type": "markdown",
      "source": [
        "***jupyter notebook --notebook-dir=\"C:\\Users\\DELL3520\\OneDrive\\Downloads\\Python_Study1\"***\n",
        "\n",
        "IMPORTANT**\n",
        " - this is a way to create an offline jupyter notebook that connects with your computer files"
      ],
      "metadata": {
        "id": "9KO49im0AyM2"
      }
    },
    {
      "cell_type": "markdown",
      "source": [
        "***Conda update Conda***\n",
        "\n",
        "IMPORTANT**\n",
        " - Update conda to the current version\n"
      ],
      "metadata": {
        "id": "elIz3RFg5M-W"
      }
    },
    {
      "cell_type": "markdown",
      "source": [
        "***Conda install [Package_Name]***\n",
        "\n",
        "IMPORTANT**\n",
        " - install a package included in Anaconda"
      ],
      "metadata": {
        "id": "EqlaaRue5UCX"
      }
    },
    {
      "cell_type": "markdown",
      "source": [
        "***Conda update [Package_Name]***\n",
        "\n",
        "IMPORTANT***\n",
        "- update any installed programme"
      ],
      "metadata": {
        "id": "hOIG4cQu5cWf"
      }
    },
    {
      "cell_type": "markdown",
      "source": [
        "***Conda create --name py35 python=3.5***\n",
        "\n",
        "IMPORTANT**\n",
        " - create a new environment named py35, and install python 3.5."
      ],
      "metadata": {
        "id": "KvwjbGRH5myo"
      }
    },
    {
      "cell_type": "markdown",
      "source": [
        "***Conda create -n MCI1 -y ***\n",
        "\n",
        "IMPORTANT**\n",
        " - create a new environment named MCI, without installation of a python version, which \"-y\" will substitute for it, means to use the current version for this new environment\n",
        " - the ways to open an environment in different computer system are different\n",
        "   + For Window: ***activate py35*** or ***activate MCI1***\n",
        "   + for Linux/MacOS: ***source activate py35*** or ***source activate MCI1***"
      ],
      "metadata": {
        "id": "VIlYWzAb52uf"
      }
    },
    {
      "cell_type": "markdown",
      "source": [
        "***conda env list ***\n",
        "\n",
        "IMPORTANT**\n",
        " - meaning to get a list of all my environments, active environment will be marked with \"*\""
      ],
      "metadata": {
        "id": "t1L6olNX64cK"
      }
    },
    {
      "cell_type": "markdown",
      "source": [
        "***conda create --clone py35 --name py35-2***\n",
        " - this is a way to make a copy of a environment named py35 and change the copy into py35-2"
      ],
      "metadata": {
        "id": "4gj5t6kh6a2z"
      }
    },
    {
      "cell_type": "markdown",
      "source": [
        "***conda list***\n",
        "\n",
        "IMPORTANT**\n",
        " - list all packages and versions installed in active environment"
      ],
      "metadata": {
        "id": "6mAsaHt27Xnj"
      }
    },
    {
      "cell_type": "markdown",
      "source": [
        "***conda list --revisions***\n",
        " - list all packages and versions installed in the active environment"
      ],
      "metadata": {
        "id": "eMrwWYfH7cHz"
      }
    },
    {
      "cell_type": "markdown",
      "source": [
        "***conda install --revisions 2***\n",
        " - to restore environment from a previous revisions"
      ],
      "metadata": {
        "id": "45pkpOOt7idU"
      }
    },
    {
      "cell_type": "markdown",
      "source": [
        "***conda list --explicit > bio-env.txt***\n",
        " - save an environment into a text file"
      ],
      "metadata": {
        "id": "vVq9sQss7swM"
      }
    },
    {
      "cell_type": "markdown",
      "source": [
        "***conda env remove --name bio-env***\n",
        "\n",
        "IMPORTANT**\n",
        " - delete an environemtn and everything in it"
      ],
      "metadata": {
        "id": "m9LCedNr72dc"
      }
    },
    {
      "cell_type": "markdown",
      "source": [
        "To deactivate a current environment, there are 2 different ways for 3 different computer system\n",
        " - Windows: ***deactivate***\n",
        " - MacOS/Linux: ***source deactivate***"
      ],
      "metadata": {
        "id": "l8U4ankO7-u3"
      }
    },
    {
      "cell_type": "markdown",
      "source": [
        "***Conda env create --file bio-env.txt***\n",
        "\n",
        "IMPORTANT**\n",
        " - create an environemtn from a text file"
      ],
      "metadata": {
        "id": "MzzvJcbg8R6A"
      }
    },
    {
      "cell_type": "markdown",
      "source": [
        "***Conda create --name bio-env biopthon***\n",
        " - to stack commands: create a new environement, name it bio-env and then install the a package called biopython\n",
        " - OPTIONAL: BioPython is a package of freely available tools for biological computation written in the Python programming language"
      ],
      "metadata": {
        "id": "fnaqwIoE8Zkn"
      }
    },
    {
      "cell_type": "markdown",
      "source": [
        "***conda search [Package_name]***\n",
        " - use conda to search for a package"
      ],
      "metadata": {
        "id": "CsSKb6Tf-X5x"
      }
    },
    {
      "cell_type": "markdown",
      "source": [
        "***conda install jupyter***\n",
        " - install a new package (Jupyter Notebook) in the active environment"
      ],
      "metadata": {
        "id": "NunPquJu_-i1"
      }
    },
    {
      "cell_type": "markdown",
      "source": [
        "***conda install --name bio-env toolz***\n",
        " - stall a new package (called toolz) in a different env"
      ],
      "metadata": {
        "id": "E2fKPLcwAG2d"
      }
    },
    {
      "cell_type": "markdown",
      "source": [
        "***conda install boltons***\n",
        " - install a package directly from PyPI into the current active environment using pip"
      ],
      "metadata": {
        "id": "vZRNnmSpArR2"
      }
    },
    {
      "cell_type": "markdown",
      "source": [
        "***conda remove --name bio-env toolz boltons***\n",
        " - remove 1/more packages (tools, boltons) from an environment (bio-env)"
      ],
      "metadata": {
        "id": "UNVNDA-wCrgp"
      }
    },
    {
      "cell_type": "markdown",
      "source": [
        "To shows the location of all Python file that are currently in the path/The first version of Python will be executed\n",
        " - for windows: ***where python ***\n",
        " - for Linux and MacOS: ***which -a python***"
      ],
      "metadata": {
        "id": "29e3ZB6qC4hR"
      }
    },
    {
      "cell_type": "markdown",
      "source": [
        "***conda --version***\n",
        " - show version information for the current active python"
      ],
      "metadata": {
        "id": "zA_wTXoGDMp6"
      }
    }
  ]
}