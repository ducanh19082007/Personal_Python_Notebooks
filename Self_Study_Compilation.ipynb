{
  "nbformat": 4,
  "nbformat_minor": 0,
  "metadata": {
    "colab": {
      "provenance": []
    },
    "kernelspec": {
      "name": "python3",
      "display_name": "Python 3"
    },
    "language_info": {
      "name": "python"
    }
  },
  "cells": [
    {
      "cell_type": "markdown",
      "source": [
        "# Noting From Self-Study - Le Duc Anh - 18/3/2025"
      ],
      "metadata": {
        "id": "K7aRNWn9I9K5"
      }
    },
    {
      "cell_type": "markdown",
      "source": [
        "## Day 1"
      ],
      "metadata": {
        "id": "WldNd2sZJVph"
      }
    },
    {
      "cell_type": "code",
      "source": [
        "ord(\"A\") #change a single alphabey to a Decimal number"
      ],
      "metadata": {
        "colab": {
          "base_uri": "https://localhost:8080/"
        },
        "id": "_ejrSuaTJknJ",
        "outputId": "9b4ee6c6-9aec-4634-8584-59f369099e23"
      },
      "execution_count": null,
      "outputs": [
        {
          "output_type": "execute_result",
          "data": {
            "text/plain": [
              "65"
            ]
          },
          "metadata": {},
          "execution_count": 3
        }
      ]
    },
    {
      "cell_type": "code",
      "source": [
        "chr(103) #take a deimal number to a certain single alphabet"
      ],
      "metadata": {
        "colab": {
          "base_uri": "https://localhost:8080/",
          "height": 36
        },
        "id": "jZrpWN9kKDP6",
        "outputId": "4f70c400-85ee-455e-9b8a-f197785b35be"
      },
      "execution_count": null,
      "outputs": [
        {
          "output_type": "execute_result",
          "data": {
            "text/plain": [
              "'g'"
            ],
            "application/vnd.google.colaboratory.intrinsic+json": {
              "type": "string"
            }
          },
          "metadata": {},
          "execution_count": 4
        }
      ]
    },
    {
      "cell_type": "code",
      "source": [
        "import statistics as stats\n",
        "stats.mean([12,23,35,24])"
      ],
      "metadata": {
        "colab": {
          "base_uri": "https://localhost:8080/"
        },
        "id": "Uow8lfarKDYh",
        "outputId": "f1d3f09d-20c5-4f70-a3db-2cf310bd52b6"
      },
      "execution_count": null,
      "outputs": [
        {
          "output_type": "execute_result",
          "data": {
            "text/plain": [
              "23.5"
            ]
          },
          "metadata": {},
          "execution_count": 5
        }
      ]
    },
    {
      "cell_type": "code",
      "source": [
        "isinstance([12,23,34,24,'sádds'], list)"
      ],
      "metadata": {
        "colab": {
          "base_uri": "https://localhost:8080/"
        },
        "id": "1wpXhwIZKRFC",
        "outputId": "81ad04fc-b0b9-4d83-bf6d-bb05a44eca5e"
      },
      "execution_count": null,
      "outputs": [
        {
          "output_type": "execute_result",
          "data": {
            "text/plain": [
              "True"
            ]
          },
          "metadata": {},
          "execution_count": 6
        }
      ]
    },
    {
      "cell_type": "code",
      "source": [
        "isinstance([12,23,34,24,'sádds'], str) # a function that returns True if the object = the specified type"
      ],
      "metadata": {
        "id": "6r6oUtD1Kazy",
        "outputId": "aba8a2eb-ab44-4558-c2a7-666ecddf35f2",
        "colab": {
          "base_uri": "https://localhost:8080/"
        }
      },
      "execution_count": null,
      "outputs": [
        {
          "output_type": "execute_result",
          "data": {
            "text/plain": [
              "False"
            ]
          },
          "metadata": {},
          "execution_count": 7
        }
      ]
    },
    {
      "cell_type": "code",
      "source": [
        "region_dict = {\n",
        "    \"North America\": [\"Antigua and Barbuda\", \"Bahamas\", \"Barbados\", \"Belize\", \"Canada\", \"Costa Rica\", \"Cuba\", \"Dominica\", \"Dominican Republic\", \"El Salvador\", \"Grenada\", \"Guatemala\", \"Haiti\", \"Honduras\", \"Jamaica\", \"Mexico\", \"Nicaragua\", \"Panama\", \"Saint Kitts and Nevis\", \"Saint Lucia\", \"Saint Vincent and the Grenadines\", \"Trinidad and Tobago\", \"United States\"],\n",
        "    \"South America\": [\"Argentina\", \"Bolivia\", \"Brazil\", \"Chile\", \"Colombia\", \"Ecuador\", \"Guyana\", \"Paraguay\", \"Peru\", \"Suriname\", \"Uruguay\", \"Venezuela\"],\n",
        "    \"Europe\": [\"Albania\", \"Andorra\", \"Austria\", \"Belarus\", \"Belgium\", \"Bosnia and Herzegovina\", \"Bulgaria\", \"Croatia\", \"Cyprus\", \"Czechia\", \"Denmark\", \"Estonia\", \"Finland\", \"France\", \"Germany\", \"Greece\", \"Hungary\", \"Iceland\", \"Ireland\", \"Italy\", \"Kosovo\", \"Latvia\", \"Liechtenstein\", \"Lithuania\", \"Luxembourg\", \"Malta\", \"Moldova\", \"Monaco\", \"Montenegro\", \"Netherlands\", \"North Macedonia\", \"Norway\", \"Poland\", \"Portugal\", \"Romania\", \"Russia\", \"San Marino\", \"Serbia\", \"Slovakia\", \"Slovenia\", \"Spain\", \"Sweden\", \"Switzerland\", \"Ukraine\", \"United Kingdom\", \"Vatican City\"],\n",
        "    \"Asia\": [\"Afghanistan\", \"Armenia\", \"Azerbaijan\", \"Bahrain\", \"Bangladesh\", \"Bhutan\", \"Brunei\", \"Cambodia\", \"China\", \"East Timor\", \"Georgia\", \"India\", \"Indonesia\", \"Iran\", \"Iraq\", \"Israel\", \"Japan\", \"Jordan\", \"Kazakhstan\", \"Kuwait\", \"Kyrgyzstan\", \"Laos\", \"Lebanon\", \"Malaysia\", \"Maldives\", \"Mongolia\", \"Myanmar\", \"Nepal\", \"North Korea\", \"Oman\", \"Pakistan\", \"Palestine\", \"Philippines\", \"Qatar\", \"Saudi Arabia\", \"Singapore\", \"South Korea\", \"Sri Lanka\", \"Syria\", \"Taiwan\", \"Tajikistan\", \"Thailand\", \"Turkey\", \"Turkmenistan\", \"United Arab Emirates\", \"Uzbekistan\", \"Vietnam\", \"Yemen\"],\n",
        "    \"Africa\": [\"Algeria\", \"Angola\", \"Benin\", \"Botswana\", \"Burkina Faso\", \"Burundi\", \"Cameroon\", \"Cape Verde\", \"Central African Republic\", \"Chad\", \"Comoros\", \"Congo\", \"Democratic Republic of Congo\", \"Djibouti\", \"Egypt\", \"Equatorial Guinea\", \"Eritrea\", \"Eswatini\", \"Ethiopia\", \"Gabon\", \"Gambia\", \"Ghana\", \"Guinea\", \"Guinea-Bissau\", \"Ivory Coast\", \"Kenya\", \"Lesotho\", \"Liberia\", \"Libya\", \"Madagascar\", \"Malawi\", \"Mali\", \"Mauritania\", \"Mauritius\", \"Morocco\", \"Mozambique\", \"Namibia\", \"Niger\", \"Nigeria\", \"Rwanda\", \"Sao Tome and Principe\", \"Senegal\", \"Seychelles\", \"Sierra Leone\", \"Somalia\", \"South Africa\", \"South Sudan\", \"Sudan\", \"Tanzania\", \"Togo\", \"Tunisia\", \"Uganda\", \"Zambia\", \"Zimbabwe\"],\n",
        "    \"Oceania\": [\"Australia\", \"Fiji\", \"Kiribati\", \"Marshall Islands\", \"Micronesia\", \"Nauru\", \"New Zealand\", \"Palau\", \"Papua New Guinea\", \"Samoa\", \"Solomon Islands\", \"Tonga\", \"Tuvalu\", \"Vanuatu\"]\n",
        "}\n",
        "Keys = region_dict.get('South America')\n",
        "print(Keys) #a method .get() that returns the value of the item with the specified key\n",
        "Keys = region_dict.get('ASS', 'Ain\\'t got value lil bru') #the second object occurs when the specified key are not available\n",
        "print(Keys)\n",
        "Keys = [region_dict.get(region, 'Ain\\'t got value lil bru') for i, region in enumerate(region_dict) if i<2]\n",
        "print(Keys)"
      ],
      "metadata": {
        "id": "osVuRYvHKdQi",
        "outputId": "978a5274-e3d4-4667-b5d9-2ca7b8e21168",
        "colab": {
          "base_uri": "https://localhost:8080/"
        }
      },
      "execution_count": null,
      "outputs": [
        {
          "output_type": "stream",
          "name": "stdout",
          "text": [
            "['Argentina', 'Bolivia', 'Brazil', 'Chile', 'Colombia', 'Ecuador', 'Guyana', 'Paraguay', 'Peru', 'Suriname', 'Uruguay', 'Venezuela']\n",
            "Ain't got value lil bru\n",
            "[['Antigua and Barbuda', 'Bahamas', 'Barbados', 'Belize', 'Canada', 'Costa Rica', 'Cuba', 'Dominica', 'Dominican Republic', 'El Salvador', 'Grenada', 'Guatemala', 'Haiti', 'Honduras', 'Jamaica', 'Mexico', 'Nicaragua', 'Panama', 'Saint Kitts and Nevis', 'Saint Lucia', 'Saint Vincent and the Grenadines', 'Trinidad and Tobago', 'United States'], ['Argentina', 'Bolivia', 'Brazil', 'Chile', 'Colombia', 'Ecuador', 'Guyana', 'Paraguay', 'Peru', 'Suriname', 'Uruguay', 'Venezuela']]\n"
          ]
        }
      ]
    },
    {
      "cell_type": "code",
      "source": [
        "for i, region in enumerate(region_dict):\n",
        "  print(region) #for a dictionary, a for loop will only take they keys, not the values\n",
        "  print(region_dict[region]) #this is a way to access to the elements"
      ],
      "metadata": {
        "id": "L_PxwEthKror",
        "outputId": "be0ad529-42fc-4e7d-d838-3bfd4da191b5",
        "colab": {
          "base_uri": "https://localhost:8080/"
        }
      },
      "execution_count": null,
      "outputs": [
        {
          "output_type": "stream",
          "name": "stdout",
          "text": [
            "North America\n",
            "['Antigua and Barbuda', 'Bahamas', 'Barbados', 'Belize', 'Canada', 'Costa Rica', 'Cuba', 'Dominica', 'Dominican Republic', 'El Salvador', 'Grenada', 'Guatemala', 'Haiti', 'Honduras', 'Jamaica', 'Mexico', 'Nicaragua', 'Panama', 'Saint Kitts and Nevis', 'Saint Lucia', 'Saint Vincent and the Grenadines', 'Trinidad and Tobago', 'United States']\n",
            "South America\n",
            "['Argentina', 'Bolivia', 'Brazil', 'Chile', 'Colombia', 'Ecuador', 'Guyana', 'Paraguay', 'Peru', 'Suriname', 'Uruguay', 'Venezuela']\n",
            "Europe\n",
            "['Albania', 'Andorra', 'Austria', 'Belarus', 'Belgium', 'Bosnia and Herzegovina', 'Bulgaria', 'Croatia', 'Cyprus', 'Czechia', 'Denmark', 'Estonia', 'Finland', 'France', 'Germany', 'Greece', 'Hungary', 'Iceland', 'Ireland', 'Italy', 'Kosovo', 'Latvia', 'Liechtenstein', 'Lithuania', 'Luxembourg', 'Malta', 'Moldova', 'Monaco', 'Montenegro', 'Netherlands', 'North Macedonia', 'Norway', 'Poland', 'Portugal', 'Romania', 'Russia', 'San Marino', 'Serbia', 'Slovakia', 'Slovenia', 'Spain', 'Sweden', 'Switzerland', 'Ukraine', 'United Kingdom', 'Vatican City']\n",
            "Asia\n",
            "['Afghanistan', 'Armenia', 'Azerbaijan', 'Bahrain', 'Bangladesh', 'Bhutan', 'Brunei', 'Cambodia', 'China', 'East Timor', 'Georgia', 'India', 'Indonesia', 'Iran', 'Iraq', 'Israel', 'Japan', 'Jordan', 'Kazakhstan', 'Kuwait', 'Kyrgyzstan', 'Laos', 'Lebanon', 'Malaysia', 'Maldives', 'Mongolia', 'Myanmar', 'Nepal', 'North Korea', 'Oman', 'Pakistan', 'Palestine', 'Philippines', 'Qatar', 'Saudi Arabia', 'Singapore', 'South Korea', 'Sri Lanka', 'Syria', 'Taiwan', 'Tajikistan', 'Thailand', 'Turkey', 'Turkmenistan', 'United Arab Emirates', 'Uzbekistan', 'Vietnam', 'Yemen']\n",
            "Africa\n",
            "['Algeria', 'Angola', 'Benin', 'Botswana', 'Burkina Faso', 'Burundi', 'Cameroon', 'Cape Verde', 'Central African Republic', 'Chad', 'Comoros', 'Congo', 'Democratic Republic of Congo', 'Djibouti', 'Egypt', 'Equatorial Guinea', 'Eritrea', 'Eswatini', 'Ethiopia', 'Gabon', 'Gambia', 'Ghana', 'Guinea', 'Guinea-Bissau', 'Ivory Coast', 'Kenya', 'Lesotho', 'Liberia', 'Libya', 'Madagascar', 'Malawi', 'Mali', 'Mauritania', 'Mauritius', 'Morocco', 'Mozambique', 'Namibia', 'Niger', 'Nigeria', 'Rwanda', 'Sao Tome and Principe', 'Senegal', 'Seychelles', 'Sierra Leone', 'Somalia', 'South Africa', 'South Sudan', 'Sudan', 'Tanzania', 'Togo', 'Tunisia', 'Uganda', 'Zambia', 'Zimbabwe']\n",
            "Oceania\n",
            "['Australia', 'Fiji', 'Kiribati', 'Marshall Islands', 'Micronesia', 'Nauru', 'New Zealand', 'Palau', 'Papua New Guinea', 'Samoa', 'Solomon Islands', 'Tonga', 'Tuvalu', 'Vanuatu']\n"
          ]
        }
      ]
    },
    {
      "cell_type": "code",
      "source": [
        "somth = 'ABCDEFGHIKLMNOPABDBSBASBAFBSSsssssasada'\n",
        "\n",
        "str.maketrans('ABCs','abcD') #not only this specify the making of transitions between string elements, but can make a dictionary of a decimal number for each alphabet\n",
        "#since the translate() method uses this ways to execute the replace maneuver, this is understandable\n",
        "#without a certain type inside the maketrans() as a spectrum of data, and inside the() are the spectrum; it is a tool for creatinga mapping tvke tgat specify how specific\n",
        "#characters in the string should be replaceed in a mass number\n",
        "print(str.maketrans('ABCs','abcD'))\n",
        "\n",
        "maketransition = str.maketrans('ABCs','abcD')\n",
        "print(somth.translate(maketransition)) #with the object we aim to change -> translate() actiate the maketrans() in a str type\n",
        "\n",
        "somth.translate(str.maketrans('ABCsD','12395'))"
      ],
      "metadata": {
        "id": "ke06gRIvNNFF",
        "outputId": "df28c09a-d45a-4d62-c1cb-d0858bf029d7",
        "colab": {
          "base_uri": "https://localhost:8080/",
          "height": 71
        }
      },
      "execution_count": null,
      "outputs": [
        {
          "output_type": "stream",
          "name": "stdout",
          "text": [
            "{65: 97, 66: 98, 67: 99, 115: 68}\n",
            "abcDEFGHIKLMNOPabDbSbaSbaFbSSDDDDDaDada\n"
          ]
        },
        {
          "output_type": "execute_result",
          "data": {
            "text/plain": [
              "'1235EFGHIKLMNOP1252S21S21F2SS99999a9ada'"
            ],
            "application/vnd.google.colaboratory.intrinsic+json": {
              "type": "string"
            }
          },
          "metadata": {},
          "execution_count": 10
        }
      ]
    },
    {
      "cell_type": "code",
      "source": [
        "\n",
        "listing = list(range(32, 48)) + list(range(58, 65)) + list(range(91, 97)) + list(range(123, 127))\n",
        "print(listing)\n",
        "alphabet=[]\n",
        "for i in listing:\n",
        "  alphabet.append(chr(i))\n",
        "''.join(alphabet)"
      ],
      "metadata": {
        "colab": {
          "base_uri": "https://localhost:8080/",
          "height": 53
        },
        "id": "l6Ruvv_6G8Ee",
        "outputId": "83b57839-8e91-43cf-a8c0-71d7f75da88f"
      },
      "execution_count": null,
      "outputs": [
        {
          "output_type": "stream",
          "name": "stdout",
          "text": [
            "[32, 33, 34, 35, 36, 37, 38, 39, 40, 41, 42, 43, 44, 45, 46, 47, 58, 59, 60, 61, 62, 63, 64, 91, 92, 93, 94, 95, 96, 123, 124, 125, 126]\n"
          ]
        },
        {
          "output_type": "execute_result",
          "data": {
            "text/plain": [
              "' !\"#$%&\\'()*+,-./:;<=>?@[\\\\]^_`{|}~'"
            ],
            "application/vnd.google.colaboratory.intrinsic+json": {
              "type": "string"
            }
          },
          "metadata": {},
          "execution_count": 1
        }
      ]
    },
    {
      "cell_type": "code",
      "source": [
        "somth = \"______________________asdasdasdasd________________________________\"\n",
        "\n",
        "print(somth.rstrip(\"_\"))\n",
        "print(somth.lstrip(\"_\"))\n",
        "print(somth.strip(\"_\"))"
      ],
      "metadata": {
        "id": "zEseTJVUOhu9",
        "outputId": "5867a6ae-998b-43aa-f1a3-0e607d35251d",
        "colab": {
          "base_uri": "https://localhost:8080/"
        }
      },
      "execution_count": null,
      "outputs": [
        {
          "output_type": "stream",
          "name": "stdout",
          "text": [
            "______________________asdasdasdasd\n",
            "asdasdasdasd________________________________\n",
            "asdasdasdasd\n"
          ]
        }
      ]
    },
    {
      "cell_type": "markdown",
      "source": [
        "##Day 2"
      ],
      "metadata": {
        "id": "O1pu_YUSR3bJ"
      }
    },
    {
      "cell_type": "code",
      "source": [
        "import datetime as dt  #library datetime can be learnt again in the future\n",
        "\n",
        "variable_date = dt.datetime(2007,8,19,11,11,11,10101)\n",
        "print(variable_date)\n",
        "print(variable_date.year)"
      ],
      "metadata": {
        "id": "A4L15dOtR6DH",
        "outputId": "06e439e0-edc0-4843-810e-148d21d6c48a",
        "colab": {
          "base_uri": "https://localhost:8080/"
        }
      },
      "execution_count": null,
      "outputs": [
        {
          "output_type": "stream",
          "name": "stdout",
          "text": [
            "2007-08-19 11:11:11.010101\n",
            "2007\n"
          ]
        }
      ]
    },
    {
      "cell_type": "code",
      "source": [
        "listing = [12,12,324,23,235,'ducanh']\n",
        "listing.insert(3,'anhduc') #the first element will always be number since it represents the index to be iserted\n",
        "listing"
      ],
      "metadata": {
        "id": "jCLDJsaASYio",
        "outputId": "08717b4f-7379-4f41-870d-fde85fa97ec0",
        "colab": {
          "base_uri": "https://localhost:8080/"
        }
      },
      "execution_count": null,
      "outputs": [
        {
          "output_type": "execute_result",
          "data": {
            "text/plain": [
              "[12, 12, 324, 'anhduc', 23, 235, 'ducanh']"
            ]
          },
          "metadata": {},
          "execution_count": 12
        }
      ]
    },
    {
      "cell_type": "code",
      "source": [
        "listing = [12,12,324,23,235,'ducanh']\n",
        "listing.extend([12,4234,12,123]) #extend with every elements in a disgnated list\n",
        "listing.append(['asdad0',234,23,23,523,2,4])#literally append nly the element inside the ()\n",
        "print(listing)"
      ],
      "metadata": {
        "id": "MepvvkV5URMJ",
        "outputId": "b36bb496-f79c-42cc-ec82-105a7d414def",
        "colab": {
          "base_uri": "https://localhost:8080/"
        }
      },
      "execution_count": null,
      "outputs": [
        {
          "output_type": "stream",
          "name": "stdout",
          "text": [
            "[12, 12, 324, 23, 235, 'ducanh', 12, 4234, 12, 123, ['asdad0', 234, 23, 23, 523, 2, 4]]\n"
          ]
        }
      ]
    },
    {
      "cell_type": "code",
      "source": [
        "somth = 'ducanh beo beo beo beo'\n",
        "print(somth.startswith(\"ducanh\"))\n",
        "print(somth.startswith('anh', 3))\n",
        "print(somth.startswith('anbinh'))"
      ],
      "metadata": {
        "id": "LTuItStrUiDZ",
        "outputId": "ef84f1f6-559d-4171-dff0-c99df3940660",
        "colab": {
          "base_uri": "https://localhost:8080/"
        }
      },
      "execution_count": null,
      "outputs": [
        {
          "output_type": "stream",
          "name": "stdout",
          "text": [
            "True\n",
            "True\n",
            "False\n"
          ]
        }
      ]
    },
    {
      "cell_type": "code",
      "source": [
        "somth=somth.replace(' ','')\n",
        "print(somth.isalpha())\n",
        "print(somth.isalnum()) #alnum stands for alphanumeric, which is a combination of numeric and alpha bet, so no special like *&^ and stuff\n",
        "print(somth.isnumeric())\n",
        "print(somth.isdigit())"
      ],
      "metadata": {
        "id": "V0cYdXx4VDrS",
        "outputId": "611f72b6-4113-4eb0-ce23-5cd32afbca6f",
        "colab": {
          "base_uri": "https://localhost:8080/"
        }
      },
      "execution_count": null,
      "outputs": [
        {
          "output_type": "stream",
          "name": "stdout",
          "text": [
            "True\n",
            "True\n",
            "False\n",
            "False\n"
          ]
        }
      ]
    },
    {
      "cell_type": "code",
      "source": [
        "region_dict = {\n",
        "    \"North America\": [\"Antigua and Barbuda\", \"Bahamas\", \"Barbados\", \"Belize\", \"Canada\", \"Costa Rica\", \"Cuba\", \"Dominica\", \"Dominican Republic\", \"El Salvador\", \"Grenada\", \"Guatemala\", \"Haiti\", \"Honduras\", \"Jamaica\", \"Mexico\", \"Nicaragua\", \"Panama\", \"Saint Kitts and Nevis\", \"Saint Lucia\", \"Saint Vincent and the Grenadines\", \"Trinidad and Tobago\", \"United States\"],\n",
        "    \"South America\": [\"Argentina\", \"Bolivia\", \"Brazil\", \"Chile\", \"Colombia\", \"Ecuador\", \"Guyana\", \"Paraguay\", \"Peru\", \"Suriname\", \"Uruguay\", \"Venezuela\"],\n",
        "    \"Europe\": [\"Albania\", \"Andorra\", \"Austria\", \"Belarus\", \"Belgium\", \"Bosnia and Herzegovina\", \"Bulgaria\", \"Croatia\", \"Cyprus\", \"Czechia\", \"Denmark\", \"Estonia\", \"Finland\", \"France\", \"Germany\", \"Greece\", \"Hungary\", \"Iceland\", \"Ireland\", \"Italy\", \"Kosovo\", \"Latvia\", \"Liechtenstein\", \"Lithuania\", \"Luxembourg\", \"Malta\", \"Moldova\", \"Monaco\", \"Montenegro\", \"Netherlands\", \"North Macedonia\", \"Norway\", \"Poland\", \"Portugal\", \"Romania\", \"Russia\", \"San Marino\", \"Serbia\", \"Slovakia\", \"Slovenia\", \"Spain\", \"Sweden\", \"Switzerland\", \"Ukraine\", \"United Kingdom\", \"Vatican City\"],\n",
        "    \"Asia\": [\"Afghanistan\", \"Armenia\", \"Azerbaijan\", \"Bahrain\", \"Bangladesh\", \"Bhutan\", \"Brunei\", \"Cambodia\", \"China\", \"East Timor\", \"Georgia\", \"India\", \"Indonesia\", \"Iran\", \"Iraq\", \"Israel\", \"Japan\", \"Jordan\", \"Kazakhstan\", \"Kuwait\", \"Kyrgyzstan\", \"Laos\", \"Lebanon\", \"Malaysia\", \"Maldives\", \"Mongolia\", \"Myanmar\", \"Nepal\", \"North Korea\", \"Oman\", \"Pakistan\", \"Palestine\", \"Philippines\", \"Qatar\", \"Saudi Arabia\", \"Singapore\", \"South Korea\", \"Sri Lanka\", \"Syria\", \"Taiwan\", \"Tajikistan\", \"Thailand\", \"Turkey\", \"Turkmenistan\", \"United Arab Emirates\", \"Uzbekistan\", \"Vietnam\", \"Yemen\"],\n",
        "    \"Africa\": [\"Algeria\", \"Angola\", \"Benin\", \"Botswana\", \"Burkina Faso\", \"Burundi\", \"Cameroon\", \"Cape Verde\", \"Central African Republic\", \"Chad\", \"Comoros\", \"Congo\", \"Democratic Republic of Congo\", \"Djibouti\", \"Egypt\", \"Equatorial Guinea\", \"Eritrea\", \"Eswatini\", \"Ethiopia\", \"Gabon\", \"Gambia\", \"Ghana\", \"Guinea\", \"Guinea-Bissau\", \"Ivory Coast\", \"Kenya\", \"Lesotho\", \"Liberia\", \"Libya\", \"Madagascar\", \"Malawi\", \"Mali\", \"Mauritania\", \"Mauritius\", \"Morocco\", \"Mozambique\", \"Namibia\", \"Niger\", \"Nigeria\", \"Rwanda\", \"Sao Tome and Principe\", \"Senegal\", \"Seychelles\", \"Sierra Leone\", \"Somalia\", \"South Africa\", \"South Sudan\", \"Sudan\", \"Tanzania\", \"Togo\", \"Tunisia\", \"Uganda\", \"Zambia\", \"Zimbabwe\"],\n",
        "    \"Oceania\": [\"Australia\", \"Fiji\", \"Kiribati\", \"Marshall Islands\", \"Micronesia\", \"Nauru\", \"New Zealand\", \"Palau\", \"Papua New Guinea\", \"Samoa\", \"Solomon Islands\", \"Tonga\", \"Tuvalu\", \"Vanuatu\"]\n",
        "}\n",
        "region_dict['North America'] = region_dict['North America']*2\n",
        "print(region_dict['North America'])\n",
        "print(somth.title())"
      ],
      "metadata": {
        "id": "sXxszsGyVUsb",
        "outputId": "6e18f1c0-d04a-469e-a398-6d88ea7449f3",
        "colab": {
          "base_uri": "https://localhost:8080/"
        }
      },
      "execution_count": null,
      "outputs": [
        {
          "output_type": "stream",
          "name": "stdout",
          "text": [
            "['Antigua and Barbuda', 'Bahamas', 'Barbados', 'Belize', 'Canada', 'Costa Rica', 'Cuba', 'Dominica', 'Dominican Republic', 'El Salvador', 'Grenada', 'Guatemala', 'Haiti', 'Honduras', 'Jamaica', 'Mexico', 'Nicaragua', 'Panama', 'Saint Kitts and Nevis', 'Saint Lucia', 'Saint Vincent and the Grenadines', 'Trinidad and Tobago', 'United States', 'Antigua and Barbuda', 'Bahamas', 'Barbados', 'Belize', 'Canada', 'Costa Rica', 'Cuba', 'Dominica', 'Dominican Republic', 'El Salvador', 'Grenada', 'Guatemala', 'Haiti', 'Honduras', 'Jamaica', 'Mexico', 'Nicaragua', 'Panama', 'Saint Kitts and Nevis', 'Saint Lucia', 'Saint Vincent and the Grenadines', 'Trinidad and Tobago', 'United States']\n",
            "Ducanhbeobeobeobeo\n"
          ]
        }
      ]
    },
    {
      "cell_type": "code",
      "source": [
        "from ast import Add\n",
        "import random\n",
        "import numpy as np\n",
        "n = [random.randrange(0, 50, 5) for _ in range(30)]\n",
        "print(n)\n",
        "set1 = set([random.randrange(0, 50, 5) for _ in range(30)])\n",
        "set2 = set([random.randrange(0, 50, 5) for _ in range(30)])\n",
        "\n",
        "\n",
        "print(\"this is set 1\",set1)\n",
        "print(\"this is set 2\",set2)\n",
        "set1.add(102)\n",
        "print(set1)\n",
        "set1.remove(102)\n",
        "print(set2)\n",
        "print(set1.union(set2))#from the intersection and the each of the others\n",
        "print(set1.intersection(set2))#returns a set taht contains the similarity between two or more sets, basically the intersections of the two lists\n",
        "print(set2.difference(set1))#methods returns a set that contains the differnces between two sets, something that contains only on the set1 not the second ones, like exclude the intersection\n",
        "print(set1.issubset(set2)) #to check if the set 1 is the subset off set2 or not, which is basically if set2 contains all of the set1 elements."
      ],
      "metadata": {
        "id": "k2UinI4AV_PL",
        "outputId": "f071df2c-68bd-4f5f-c955-2b445c966a40",
        "colab": {
          "base_uri": "https://localhost:8080/"
        }
      },
      "execution_count": null,
      "outputs": [
        {
          "output_type": "stream",
          "name": "stdout",
          "text": [
            "[45, 35, 20, 45, 40, 40, 25, 25, 45, 45, 0, 45, 30, 15, 5, 0, 15, 15, 20, 40, 30, 15, 35, 45, 35, 40, 30, 10, 35, 40]\n",
            "this is set 1 {0, 35, 5, 40, 10, 45, 15, 20, 25, 30}\n",
            "this is set 2 {0, 35, 5, 40, 10, 45, 15, 20, 25, 30}\n",
            "{0, 35, 5, 102, 40, 10, 45, 15, 20, 25, 30}\n",
            "{0, 35, 5, 40, 10, 45, 15, 20, 25, 30}\n",
            "{0, 5, 10, 15, 20, 25, 30, 35, 40, 45}\n",
            "{0, 35, 5, 40, 10, 45, 15, 20, 25, 30}\n",
            "set()\n",
            "True\n"
          ]
        }
      ]
    },
    {
      "cell_type": "markdown",
      "source": [
        "## Day 3"
      ],
      "metadata": {
        "id": "N-6XNPhuY4BX"
      }
    },
    {
      "cell_type": "code",
      "source": [
        "print( dict.fromkeys(['key1','key2','key3'],[2,3,1]) )"
      ],
      "metadata": {
        "id": "R7Cy8nXfkAYI",
        "outputId": "5bff7179-39ca-42d9-8a7f-28c8dc1e9312",
        "colab": {
          "base_uri": "https://localhost:8080/"
        }
      },
      "execution_count": null,
      "outputs": [
        {
          "output_type": "stream",
          "name": "stdout",
          "text": [
            "{'key1': [2, 3, 1], 'key2': [2, 3, 1], 'key3': [2, 3, 1]}\n"
          ]
        }
      ]
    },
    {
      "cell_type": "code",
      "source": [
        "def Lambda_test(x):\n",
        "  return lambda a: a*x\n",
        "print(Lambda_test(2)(6) ) #lambda are literanlly arguments that contains a variable that will be given later by any means\n",
        "#however in this examples, there are alone 2 types of ways to insert a variable into a lambda, one is through def, another is through certain universal methods\n",
        "\n",
        "\n",
        "addten = lambda x: x+10\n",
        "print(addten(5))\n",
        "\n",
        "add = lambda x, y: x+y\n",
        "print(add(5,6))\n",
        "\n",
        "doubled = map(lambda x: x * 2, [1, 2, 3, 4])\n",
        "print(list(doubled))\n",
        "\n",
        "numbers = [1, 2, 3, 4, 5, 6]\n",
        "evens = list(filter(lambda x: x % 2 == 0, numbers)) #filter methods means that satisfy the specific methods, weather in lambda or in def, and the second elements\n",
        "#are the variables\n",
        "print(evens)\n",
        "\n",
        "\n",
        "numbers = [1, 2, 3, 4, 5, 6]\n",
        "evens = list(map(lambda x: round(x / 2), numbers)) #map() filters methods on the other hand\n",
        "print(evens)\n",
        "\n",
        "listofstrings = ['as asd asas da ', 'asda sdsd gdg ssg ', 'sdsd dfgf  bfg bf']\n",
        "capitalizedlisofstrings = list(map(lambda x: x.capitalize(), listofstrings))\n",
        "print(capitalizedlisofstrings)\n",
        "\n",
        "listofstrings = ['as asd asas da ', 'asda sdsd gdg ssg ', 'sdsd dfgf  bfg bf']\n",
        "capitalizedlisofstrings = list(map(lambda x: x.upper(), listofstrings))\n",
        "capitalizedlisofstrings"
      ],
      "metadata": {
        "id": "0XfStnk-k0ER",
        "outputId": "f8f8eed8-d352-4c66-d007-13be24f3ea70",
        "colab": {
          "base_uri": "https://localhost:8080/"
        }
      },
      "execution_count": null,
      "outputs": [
        {
          "output_type": "stream",
          "name": "stdout",
          "text": [
            "12\n",
            "15\n",
            "11\n",
            "[2, 4, 6, 8]\n",
            "[2, 4, 6]\n",
            "[0, 1, 2, 2, 2, 3]\n",
            "['As asd asas da ', 'Asda sdsd gdg ssg ', 'Sdsd dfgf  bfg bf']\n"
          ]
        },
        {
          "output_type": "execute_result",
          "data": {
            "text/plain": [
              "['AS ASD ASAS DA ', 'ASDA SDSD GDG SSG ', 'SDSD DFGF  BFG BF']"
            ]
          },
          "metadata": {},
          "execution_count": 19
        }
      ]
    },
    {
      "cell_type": "code",
      "source": [
        "#in fact, since the first elements represents certain functions, thus, we can also use def as a fuction\n",
        "listofstrings = ['as asd asas     da ', 'asda sdsd gdg ssg ', 'sdsd dfgf  bfg bf']\n",
        "def replacing_string(var): return var.replace(' ', '--')\n",
        "alteratedlistofstrings = list(map(replacing_string, listofstrings))\n",
        "print(alteratedlistofstrings)"
      ],
      "metadata": {
        "id": "vpbBgCJ7MZto",
        "outputId": "4462699a-1d12-4de2-e52a-46022d907a0a",
        "colab": {
          "base_uri": "https://localhost:8080/"
        }
      },
      "execution_count": null,
      "outputs": [
        {
          "output_type": "stream",
          "name": "stdout",
          "text": [
            "['as--asd--asas----------da--', 'asda--sdsd--gdg--ssg--', 'sdsd--dfgf----bfg--bf']\n"
          ]
        }
      ]
    },
    {
      "cell_type": "code",
      "source": [
        "' asb '.join('bas')\n",
        "#basically, join means to aggregate a list into a string, and in this case, 'bas' is automatically regarded as a list with each of its characters are is elements\n",
        "#and the variable behind it are variables, is a string that will be inserted between the elements\n",
        "\n",
        "listing=[\"Australia\", \"Fiji\", \"Kiribati\", \"Marshall Islands\", \"Micronesia\", \"Nauru\", \"New Zealand\", \"Palau\", \"Papua New Guinea\", \"Samoa\", \"Solomon Islands\", \"Tonga\", \"Tuvalu\", \"Vanuatu\"]\n",
        "print('___'.join(listing).replace(' ',''))"
      ],
      "metadata": {
        "id": "_WOT9I98hUA4",
        "outputId": "42c31070-fe07-4803-f0cb-daace365cbdc",
        "colab": {
          "base_uri": "https://localhost:8080/"
        }
      },
      "execution_count": null,
      "outputs": [
        {
          "output_type": "stream",
          "name": "stdout",
          "text": [
            "Australia___Fiji___Kiribati___MarshallIslands___Micronesia___Nauru___NewZealand___Palau___PapuaNewGuinea___Samoa___SolomonIslands___Tonga___Tuvalu___Vanuatu\n"
          ]
        }
      ]
    },
    {
      "cell_type": "markdown",
      "source": [
        "## Day 4"
      ],
      "metadata": {
        "id": "cJVj1IOHiuSB"
      }
    },
    {
      "cell_type": "code",
      "source": [
        "obj=float('inf')\n",
        "neg_obj=float('-inf')\n",
        "print(obj, neg_obj)\n",
        "\n",
        "#inf stands for infinity, which means that obj is given as an amount as abstractly infinite, which can be interpreted that no value will be more than obj\n",
        "#so do -inf, which is a negative infinite abstractly speaking, which can be interpreted that no value will be less than neg_obj\n",
        "#these variable can be really useful in certain circumstances, especially in thier interpretations"
      ],
      "metadata": {
        "id": "ouCG4kWakBgJ",
        "outputId": "632f082d-0f20-496c-998e-11314b546ca3",
        "colab": {
          "base_uri": "https://localhost:8080/"
        }
      },
      "execution_count": null,
      "outputs": [
        {
          "output_type": "stream",
          "name": "stdout",
          "text": [
            "inf -inf\n"
          ]
        }
      ]
    },
    {
      "cell_type": "code",
      "source": [
        "list1 = ['value1', 'value2', 'value3']\n",
        "list2 = range(1,4)\n",
        "aggregated = zip(list1,list2)\n",
        "list(aggregated)"
      ],
      "metadata": {
        "id": "9o8vaQmvkF56",
        "outputId": "f7fd5037-8d80-4345-890e-be949e93536f",
        "colab": {
          "base_uri": "https://localhost:8080/"
        }
      },
      "execution_count": null,
      "outputs": [
        {
          "output_type": "execute_result",
          "data": {
            "text/plain": [
              "[('value1', 1), ('value2', 2), ('value3', 3)]"
            ]
          },
          "metadata": {},
          "execution_count": 23
        }
      ]
    }
  ]
}